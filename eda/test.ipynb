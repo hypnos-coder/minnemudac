{
 "cells": [
  {
   "cell_type": "code",
   "execution_count": 8,
   "metadata": {},
   "outputs": [],
   "source": [
    "import pandas as pd\n"
   ]
  },
  {
   "cell_type": "code",
   "execution_count": 9,
   "metadata": {},
   "outputs": [],
   "source": [
    "df = pd.read_excel(\"../data/Training.xlsx\")"
   ]
  },
  {
   "cell_type": "code",
   "execution_count": 10,
   "metadata": {},
   "outputs": [
    {
     "data": {
      "text/html": [
       "<div>\n",
       "<style scoped>\n",
       "    .dataframe tbody tr th:only-of-type {\n",
       "        vertical-align: middle;\n",
       "    }\n",
       "\n",
       "    .dataframe tbody tr th {\n",
       "        vertical-align: top;\n",
       "    }\n",
       "\n",
       "    .dataframe thead th {\n",
       "        text-align: right;\n",
       "    }\n",
       "</style>\n",
       "<table border=\"1\" class=\"dataframe\">\n",
       "  <thead>\n",
       "    <tr style=\"text-align: right;\">\n",
       "      <th></th>\n",
       "      <th>Match ID 18Char</th>\n",
       "      <th>Completion Date</th>\n",
       "      <th>Match Support Contact Notes</th>\n",
       "      <th>Stage</th>\n",
       "      <th>Little ID</th>\n",
       "      <th>Big ID</th>\n",
       "      <th>Big County</th>\n",
       "      <th>Big Age</th>\n",
       "      <th>Big Occupation</th>\n",
       "      <th>Big: Military</th>\n",
       "      <th>...</th>\n",
       "      <th>Little Contact: Interest Finder - Career</th>\n",
       "      <th>Little Contact: Interest Finder - Personality</th>\n",
       "      <th>Little Contact: Interest Finder - Three Wishes</th>\n",
       "      <th>Little Gender</th>\n",
       "      <th>Little Participant: Race/Ethnicity</th>\n",
       "      <th>Little Birthdate</th>\n",
       "      <th>Little Mailing Address Census Block Group</th>\n",
       "      <th>Big Home Census Block Group</th>\n",
       "      <th>Big Employer/School Census Block Group</th>\n",
       "      <th>Match Length</th>\n",
       "    </tr>\n",
       "  </thead>\n",
       "  <tbody>\n",
       "    <tr>\n",
       "      <th>0</th>\n",
       "      <td>a1v2J0000028pRvQAI</td>\n",
       "      <td>2017-11-30</td>\n",
       "      <td>Question: Activities:           Answer: See ms...</td>\n",
       "      <td>Closed</td>\n",
       "      <td>0032J00003PLe29QAD</td>\n",
       "      <td>0032J00003PhDOI</td>\n",
       "      <td>Hennepin</td>\n",
       "      <td>40</td>\n",
       "      <td>Unemployed</td>\n",
       "      <td>NaN</td>\n",
       "      <td>...</td>\n",
       "      <td>NaN</td>\n",
       "      <td>NaN</td>\n",
       "      <td>NaN</td>\n",
       "      <td>Female</td>\n",
       "      <td>Black or African American</td>\n",
       "      <td>2004-01-01</td>\n",
       "      <td>2.705303e+11</td>\n",
       "      <td>2.705302e+11</td>\n",
       "      <td>NaN</td>\n",
       "      <td>9.0</td>\n",
       "    </tr>\n",
       "    <tr>\n",
       "      <th>1</th>\n",
       "      <td>a1v2J0000028pRvQAI</td>\n",
       "      <td>2017-10-31</td>\n",
       "      <td>Question: Activities:           Answer: See MS...</td>\n",
       "      <td>Closed</td>\n",
       "      <td>0032J00003PLe29QAD</td>\n",
       "      <td>0032J00003PhDOI</td>\n",
       "      <td>Hennepin</td>\n",
       "      <td>40</td>\n",
       "      <td>Unemployed</td>\n",
       "      <td>NaN</td>\n",
       "      <td>...</td>\n",
       "      <td>NaN</td>\n",
       "      <td>NaN</td>\n",
       "      <td>NaN</td>\n",
       "      <td>Female</td>\n",
       "      <td>Black or African American</td>\n",
       "      <td>2004-01-01</td>\n",
       "      <td>2.705303e+11</td>\n",
       "      <td>2.705302e+11</td>\n",
       "      <td>NaN</td>\n",
       "      <td>9.0</td>\n",
       "    </tr>\n",
       "    <tr>\n",
       "      <th>2</th>\n",
       "      <td>a1v2J0000028pRvQAI</td>\n",
       "      <td>2017-12-01</td>\n",
       "      <td>Question: Activities:           Answer: Match ...</td>\n",
       "      <td>Closed</td>\n",
       "      <td>0032J00003PLe29QAD</td>\n",
       "      <td>0032J00003PhDOI</td>\n",
       "      <td>Hennepin</td>\n",
       "      <td>40</td>\n",
       "      <td>Unemployed</td>\n",
       "      <td>NaN</td>\n",
       "      <td>...</td>\n",
       "      <td>NaN</td>\n",
       "      <td>NaN</td>\n",
       "      <td>NaN</td>\n",
       "      <td>Female</td>\n",
       "      <td>Black or African American</td>\n",
       "      <td>2004-01-01</td>\n",
       "      <td>2.705303e+11</td>\n",
       "      <td>2.705302e+11</td>\n",
       "      <td>NaN</td>\n",
       "      <td>9.0</td>\n",
       "    </tr>\n",
       "  </tbody>\n",
       "</table>\n",
       "<p>3 rows × 68 columns</p>\n",
       "</div>"
      ],
      "text/plain": [
       "      Match ID 18Char Completion Date  \\\n",
       "0  a1v2J0000028pRvQAI      2017-11-30   \n",
       "1  a1v2J0000028pRvQAI      2017-10-31   \n",
       "2  a1v2J0000028pRvQAI      2017-12-01   \n",
       "\n",
       "                         Match Support Contact Notes   Stage  \\\n",
       "0  Question: Activities:           Answer: See ms...  Closed   \n",
       "1  Question: Activities:           Answer: See MS...  Closed   \n",
       "2  Question: Activities:           Answer: Match ...  Closed   \n",
       "\n",
       "            Little ID           Big ID Big County  Big Age Big Occupation  \\\n",
       "0  0032J00003PLe29QAD  0032J00003PhDOI   Hennepin       40     Unemployed   \n",
       "1  0032J00003PLe29QAD  0032J00003PhDOI   Hennepin       40     Unemployed   \n",
       "2  0032J00003PLe29QAD  0032J00003PhDOI   Hennepin       40     Unemployed   \n",
       "\n",
       "  Big: Military  ... Little Contact: Interest Finder - Career  \\\n",
       "0           NaN  ...                                      NaN   \n",
       "1           NaN  ...                                      NaN   \n",
       "2           NaN  ...                                      NaN   \n",
       "\n",
       "  Little Contact: Interest Finder - Personality  \\\n",
       "0                                           NaN   \n",
       "1                                           NaN   \n",
       "2                                           NaN   \n",
       "\n",
       "  Little Contact: Interest Finder - Three Wishes Little Gender  \\\n",
       "0                                            NaN        Female   \n",
       "1                                            NaN        Female   \n",
       "2                                            NaN        Female   \n",
       "\n",
       "  Little Participant: Race/Ethnicity Little Birthdate  \\\n",
       "0          Black or African American       2004-01-01   \n",
       "1          Black or African American       2004-01-01   \n",
       "2          Black or African American       2004-01-01   \n",
       "\n",
       "  Little Mailing Address Census Block Group Big Home Census Block Group  \\\n",
       "0                              2.705303e+11                2.705302e+11   \n",
       "1                              2.705303e+11                2.705302e+11   \n",
       "2                              2.705303e+11                2.705302e+11   \n",
       "\n",
       "  Big Employer/School Census Block Group Match Length  \n",
       "0                                    NaN          9.0  \n",
       "1                                    NaN          9.0  \n",
       "2                                    NaN          9.0  \n",
       "\n",
       "[3 rows x 68 columns]"
      ]
     },
     "execution_count": 10,
     "metadata": {},
     "output_type": "execute_result"
    }
   ],
   "source": [
    "df.head(3)"
   ]
  },
  {
   "cell_type": "markdown",
   "metadata": {},
   "source": [
    "## Attempt Cleaning"
   ]
  },
  {
   "cell_type": "code",
   "execution_count": null,
   "metadata": {},
   "outputs": [],
   "source": [
    "# columns to be modified\n",
    "\n",
    "rename_dic = {\n",
    "    \"Match ID 18Char\" : \"match_id\",\n",
    "    \"Match Support Contact Notes\": \"contact_notes\",\n",
    "}\n",
    "\n",
    "to_be_deleted = [\n",
    "    \"Big Employer/School Census Block Group\", \"Big Enrollment: Created Date\", \"Big Acceptance Date\",\n",
    "    \"Big Contact: Created Date\",\"Big Days Acceptance to Match\", \"Big Days Interview to Acceptance\",\"Big Days Interview to Match\",\n",
    "    \"Big Contact: Preferred Communication Type\",\n",
    "    \n",
    "    \"Little Mailing Address Census Block Group\", \"Little Interview Date\", \"Little Acceptance Date\", \"Little Application Received\", \"Little Moved to RTBM in MF\",\n",
    "    \"Little RTBM Date in MF\", \"Little RTBM in Matchforce\", \"Little Moved to RTBM in MF\", \"Little Interview Date\", \"Little Acceptance Date\", \"Little RTBM in Matchforce\",\n",
    "\n",
    "]\n",
    "\n",
    "yes_no = [\n",
    "    \"Big Open to Cross-Gender Match\", \"Big Re-Enroll\", \"Big Contact: Marital Status\", \"Big Gender\", \"Big Military\", \"Big Car Access\",\n",
    "    \"Big Contact: Former Big/Little\",\n",
    "    \n",
    "] "
   ]
  },
  {
   "cell_type": "code",
   "execution_count": 12,
   "metadata": {},
   "outputs": [],
   "source": [
    "df.drop(to_be_deleted, axis=1, inplace=True)\n"
   ]
  },
  {
   "cell_type": "code",
   "execution_count": null,
   "metadata": {},
   "outputs": [],
   "source": []
  },
  {
   "cell_type": "code",
   "execution_count": 13,
   "metadata": {},
   "outputs": [
    {
     "data": {
      "text/plain": [
       "(39345, 66)"
      ]
     },
     "execution_count": 13,
     "metadata": {},
     "output_type": "execute_result"
    }
   ],
   "source": [
    "df.shape"
   ]
  },
  {
   "cell_type": "code",
   "execution_count": null,
   "metadata": {},
   "outputs": [],
   "source": []
  }
 ],
 "metadata": {
  "kernelspec": {
   "display_name": "env_x86",
   "language": "python",
   "name": "python3"
  },
  "language_info": {
   "codemirror_mode": {
    "name": "ipython",
    "version": 3
   },
   "file_extension": ".py",
   "mimetype": "text/x-python",
   "name": "python",
   "nbconvert_exporter": "python",
   "pygments_lexer": "ipython3",
   "version": "3.12.9"
  }
 },
 "nbformat": 4,
 "nbformat_minor": 2
}
